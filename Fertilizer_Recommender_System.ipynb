{
  "cells": [
    {
      "cell_type": "markdown",
      "metadata": {
        "id": "JTEA_2y0IIcF"
      },
      "source": []
    },
    {
      "cell_type": "code",
      "execution_count": 42,
      "metadata": {
        "id": "bNhneVA6Xi1l"
      },
      "outputs": [],
      "source": [
        "# Importing libraries and packages for basic statistics\n",
        "import os # To change working directory\n",
        "import pandas as pd # to read and manipulating data \n",
        "import numpy as np # to calculate mean and standard deviations\n",
        "import pickle"
      ]
    },
    {
      "cell_type": "code",
      "execution_count": 43,
      "metadata": {
        "id": "KG08iZp6YDNY"
      },
      "outputs": [],
      "source": [
        "# To read 'csv' file with panda library\n",
        "df = pd.read_csv('/content/Dataset.csv')\n",
        "\n"
      ]
    },
    {
      "cell_type": "code",
      "execution_count": 44,
      "metadata": {
        "colab": {
          "base_uri": "https://localhost:8080/",
          "height": 206
        },
        "id": "OarpjeLvYrYX",
        "outputId": "4030d472-161c-4380-920f-2f8e74bce52d"
      },
      "outputs": [
        {
          "data": {
            "text/html": [
              "\n",
              "  <div id=\"df-eecc1a07-0119-4012-af1a-662fad0f9c76\">\n",
              "    <div class=\"colab-df-container\">\n",
              "      <div>\n",
              "<style scoped>\n",
              "    .dataframe tbody tr th:only-of-type {\n",
              "        vertical-align: middle;\n",
              "    }\n",
              "\n",
              "    .dataframe tbody tr th {\n",
              "        vertical-align: top;\n",
              "    }\n",
              "\n",
              "    .dataframe thead th {\n",
              "        text-align: right;\n",
              "    }\n",
              "</style>\n",
              "<table border=\"1\" class=\"dataframe\">\n",
              "  <thead>\n",
              "    <tr style=\"text-align: right;\">\n",
              "      <th></th>\n",
              "      <th>Temperature</th>\n",
              "      <th>Humidity</th>\n",
              "      <th>N</th>\n",
              "      <th>P</th>\n",
              "      <th>K</th>\n",
              "      <th>Soil</th>\n",
              "      <th>Crop</th>\n",
              "      <th>Fertilizer</th>\n",
              "    </tr>\n",
              "  </thead>\n",
              "  <tbody>\n",
              "    <tr>\n",
              "      <th>294</th>\n",
              "      <td>25.0</td>\n",
              "      <td>50.0</td>\n",
              "      <td>24.0</td>\n",
              "      <td>19.0</td>\n",
              "      <td>0.0</td>\n",
              "      <td>Clayey</td>\n",
              "      <td>Pulses</td>\n",
              "      <td>28-28</td>\n",
              "    </tr>\n",
              "    <tr>\n",
              "      <th>295</th>\n",
              "      <td>30.0</td>\n",
              "      <td>60.0</td>\n",
              "      <td>4.0</td>\n",
              "      <td>17.0</td>\n",
              "      <td>17.0</td>\n",
              "      <td>Red</td>\n",
              "      <td>Tobacco</td>\n",
              "      <td>10-26-26</td>\n",
              "    </tr>\n",
              "    <tr>\n",
              "      <th>296</th>\n",
              "      <td>38.0</td>\n",
              "      <td>72.0</td>\n",
              "      <td>39.0</td>\n",
              "      <td>0.0</td>\n",
              "      <td>0.0</td>\n",
              "      <td>Loamy</td>\n",
              "      <td>Wheat</td>\n",
              "      <td>Urea</td>\n",
              "    </tr>\n",
              "    <tr>\n",
              "      <th>297</th>\n",
              "      <td>36.0</td>\n",
              "      <td>60.0</td>\n",
              "      <td>15.0</td>\n",
              "      <td>41.0</td>\n",
              "      <td>0.0</td>\n",
              "      <td>Sandy</td>\n",
              "      <td>Millets</td>\n",
              "      <td>DAP</td>\n",
              "    </tr>\n",
              "    <tr>\n",
              "      <th>298</th>\n",
              "      <td>29.0</td>\n",
              "      <td>58.0</td>\n",
              "      <td>12.0</td>\n",
              "      <td>10.0</td>\n",
              "      <td>0.0</td>\n",
              "      <td>Black</td>\n",
              "      <td>Sugarcane</td>\n",
              "      <td>20-20</td>\n",
              "    </tr>\n",
              "  </tbody>\n",
              "</table>\n",
              "</div>\n",
              "      <button class=\"colab-df-convert\" onclick=\"convertToInteractive('df-eecc1a07-0119-4012-af1a-662fad0f9c76')\"\n",
              "              title=\"Convert this dataframe to an interactive table.\"\n",
              "              style=\"display:none;\">\n",
              "        \n",
              "  <svg xmlns=\"http://www.w3.org/2000/svg\" height=\"24px\"viewBox=\"0 0 24 24\"\n",
              "       width=\"24px\">\n",
              "    <path d=\"M0 0h24v24H0V0z\" fill=\"none\"/>\n",
              "    <path d=\"M18.56 5.44l.94 2.06.94-2.06 2.06-.94-2.06-.94-.94-2.06-.94 2.06-2.06.94zm-11 1L8.5 8.5l.94-2.06 2.06-.94-2.06-.94L8.5 2.5l-.94 2.06-2.06.94zm10 10l.94 2.06.94-2.06 2.06-.94-2.06-.94-.94-2.06-.94 2.06-2.06.94z\"/><path d=\"M17.41 7.96l-1.37-1.37c-.4-.4-.92-.59-1.43-.59-.52 0-1.04.2-1.43.59L10.3 9.45l-7.72 7.72c-.78.78-.78 2.05 0 2.83L4 21.41c.39.39.9.59 1.41.59.51 0 1.02-.2 1.41-.59l7.78-7.78 2.81-2.81c.8-.78.8-2.07 0-2.86zM5.41 20L4 18.59l7.72-7.72 1.47 1.35L5.41 20z\"/>\n",
              "  </svg>\n",
              "      </button>\n",
              "      \n",
              "  <style>\n",
              "    .colab-df-container {\n",
              "      display:flex;\n",
              "      flex-wrap:wrap;\n",
              "      gap: 12px;\n",
              "    }\n",
              "\n",
              "    .colab-df-convert {\n",
              "      background-color: #E8F0FE;\n",
              "      border: none;\n",
              "      border-radius: 50%;\n",
              "      cursor: pointer;\n",
              "      display: none;\n",
              "      fill: #1967D2;\n",
              "      height: 32px;\n",
              "      padding: 0 0 0 0;\n",
              "      width: 32px;\n",
              "    }\n",
              "\n",
              "    .colab-df-convert:hover {\n",
              "      background-color: #E2EBFA;\n",
              "      box-shadow: 0px 1px 2px rgba(60, 64, 67, 0.3), 0px 1px 3px 1px rgba(60, 64, 67, 0.15);\n",
              "      fill: #174EA6;\n",
              "    }\n",
              "\n",
              "    [theme=dark] .colab-df-convert {\n",
              "      background-color: #3B4455;\n",
              "      fill: #D2E3FC;\n",
              "    }\n",
              "\n",
              "    [theme=dark] .colab-df-convert:hover {\n",
              "      background-color: #434B5C;\n",
              "      box-shadow: 0px 1px 3px 1px rgba(0, 0, 0, 0.15);\n",
              "      filter: drop-shadow(0px 1px 2px rgba(0, 0, 0, 0.3));\n",
              "      fill: #FFFFFF;\n",
              "    }\n",
              "  </style>\n",
              "\n",
              "      <script>\n",
              "        const buttonEl =\n",
              "          document.querySelector('#df-eecc1a07-0119-4012-af1a-662fad0f9c76 button.colab-df-convert');\n",
              "        buttonEl.style.display =\n",
              "          google.colab.kernel.accessAllowed ? 'block' : 'none';\n",
              "\n",
              "        async function convertToInteractive(key) {\n",
              "          const element = document.querySelector('#df-eecc1a07-0119-4012-af1a-662fad0f9c76');\n",
              "          const dataTable =\n",
              "            await google.colab.kernel.invokeFunction('convertToInteractive',\n",
              "                                                     [key], {});\n",
              "          if (!dataTable) return;\n",
              "\n",
              "          const docLinkHtml = 'Like what you see? Visit the ' +\n",
              "            '<a target=\"_blank\" href=https://colab.research.google.com/notebooks/data_table.ipynb>data table notebook</a>'\n",
              "            + ' to learn more about interactive tables.';\n",
              "          element.innerHTML = '';\n",
              "          dataTable['output_type'] = 'display_data';\n",
              "          await google.colab.output.renderOutput(dataTable, element);\n",
              "          const docLink = document.createElement('div');\n",
              "          docLink.innerHTML = docLinkHtml;\n",
              "          element.appendChild(docLink);\n",
              "        }\n",
              "      </script>\n",
              "    </div>\n",
              "  </div>\n",
              "  "
            ],
            "text/plain": [
              "     Temperature  Humidity     N     P     K    Soil       Crop Fertilizer\n",
              "294         25.0      50.0  24.0  19.0   0.0  Clayey     Pulses      28-28\n",
              "295         30.0      60.0   4.0  17.0  17.0     Red    Tobacco   10-26-26\n",
              "296         38.0      72.0  39.0   0.0   0.0   Loamy      Wheat       Urea\n",
              "297         36.0      60.0  15.0  41.0   0.0   Sandy    Millets        DAP\n",
              "298         29.0      58.0  12.0  10.0   0.0   Black  Sugarcane      20-20"
            ]
          },
          "metadata": {},
          "output_type": "display_data"
        }
      ],
      "source": [
        "# To display the first 10 rows of dataset\n",
        "display(df.tail(5))"
      ]
    },
    {
      "cell_type": "code",
      "execution_count": 45,
      "metadata": {
        "colab": {
          "base_uri": "https://localhost:8080/"
        },
        "id": "0ebZ68aMYxk6",
        "outputId": "c2c2e776-d5e8-4c71-b4ef-c01b72bddf89"
      },
      "outputs": [
        {
          "data": {
            "text/plain": [
              "Index(['Temperature', 'Humidity', 'N', 'P', 'K', 'Soil', 'Crop', 'Fertilizer'], dtype='object')"
            ]
          },
          "execution_count": 45,
          "metadata": {},
          "output_type": "execute_result"
        }
      ],
      "source": [
        "# To find Column name\n",
        "df.columns"
      ]
    },
    {
      "cell_type": "code",
      "execution_count": 46,
      "metadata": {
        "colab": {
          "base_uri": "https://localhost:8080/",
          "height": 312
        },
        "id": "EZ9prIXiY2Uc",
        "outputId": "83edcec1-01d0-4126-f912-d9ef44d2f1e8"
      },
      "outputs": [
        {
          "name": "stdout",
          "output_type": "stream",
          "text": [
            "(299, 8)\n",
            "<class 'pandas.core.frame.DataFrame'>\n",
            "RangeIndex: 299 entries, 0 to 298\n",
            "Data columns (total 8 columns):\n",
            " #   Column       Non-Null Count  Dtype  \n",
            "---  ------       --------------  -----  \n",
            " 0   Temperature  299 non-null    float64\n",
            " 1   Humidity     299 non-null    float64\n",
            " 2   N            299 non-null    float64\n",
            " 3   P            299 non-null    float64\n",
            " 4   K            299 non-null    float64\n",
            " 5   Soil         299 non-null    object \n",
            " 6   Crop         299 non-null    object \n",
            " 7   Fertilizer   299 non-null    object \n",
            "dtypes: float64(5), object(3)\n",
            "memory usage: 18.8+ KB\n"
          ]
        },
        {
          "data": {
            "text/plain": [
              "None"
            ]
          },
          "metadata": {},
          "output_type": "display_data"
        }
      ],
      "source": [
        "# To find the number of rows and columns\n",
        "print(df.shape)\n",
        "\n",
        "# check for the data types, memory usage, etc\n",
        "display(df.info())"
      ]
    },
    {
      "cell_type": "code",
      "execution_count": 47,
      "metadata": {
        "colab": {
          "base_uri": "https://localhost:8080/"
        },
        "id": "Eh_u8kCUY9wf",
        "outputId": "8f6f19e0-6cc6-41c5-c9b2-3fa92fa037dc"
      },
      "outputs": [
        {
          "data": {
            "text/plain": [
              "Temperature    0\n",
              "Humidity       0\n",
              "N              0\n",
              "P              0\n",
              "K              0\n",
              "Soil           0\n",
              "Crop           0\n",
              "Fertilizer     0\n",
              "dtype: int64"
            ]
          },
          "execution_count": 47,
          "metadata": {},
          "output_type": "execute_result"
        }
      ],
      "source": [
        "# checking the no. of missing values in the dataset\n",
        "df.isnull().sum()"
      ]
    },
    {
      "cell_type": "code",
      "execution_count": 48,
      "metadata": {
        "colab": {
          "base_uri": "https://localhost:8080/",
          "height": 206
        },
        "id": "m2rKeJsiZIgo",
        "outputId": "704628e1-0ce1-46e7-ea25-f0501b609bda"
      },
      "outputs": [
        {
          "data": {
            "text/html": [
              "\n",
              "  <div id=\"df-342d39f6-9b83-4f53-a34b-f71b22144f3a\">\n",
              "    <div class=\"colab-df-container\">\n",
              "      <div>\n",
              "<style scoped>\n",
              "    .dataframe tbody tr th:only-of-type {\n",
              "        vertical-align: middle;\n",
              "    }\n",
              "\n",
              "    .dataframe tbody tr th {\n",
              "        vertical-align: top;\n",
              "    }\n",
              "\n",
              "    .dataframe thead th {\n",
              "        text-align: right;\n",
              "    }\n",
              "</style>\n",
              "<table border=\"1\" class=\"dataframe\">\n",
              "  <thead>\n",
              "    <tr style=\"text-align: right;\">\n",
              "      <th></th>\n",
              "      <th>count</th>\n",
              "      <th>mean</th>\n",
              "      <th>std</th>\n",
              "      <th>min</th>\n",
              "      <th>25%</th>\n",
              "      <th>50%</th>\n",
              "      <th>75%</th>\n",
              "      <th>max</th>\n",
              "    </tr>\n",
              "  </thead>\n",
              "  <tbody>\n",
              "    <tr>\n",
              "      <th>Temperature</th>\n",
              "      <td>299.0</td>\n",
              "      <td>27.121873</td>\n",
              "      <td>3.649695</td>\n",
              "      <td>20.05</td>\n",
              "      <td>25.0</td>\n",
              "      <td>26.80</td>\n",
              "      <td>29.000</td>\n",
              "      <td>38.00</td>\n",
              "    </tr>\n",
              "    <tr>\n",
              "      <th>Humidity</th>\n",
              "      <td>299.0</td>\n",
              "      <td>78.824849</td>\n",
              "      <td>15.259550</td>\n",
              "      <td>50.00</td>\n",
              "      <td>64.0</td>\n",
              "      <td>82.23</td>\n",
              "      <td>92.525</td>\n",
              "      <td>99.98</td>\n",
              "    </tr>\n",
              "    <tr>\n",
              "      <th>N</th>\n",
              "      <td>299.0</td>\n",
              "      <td>8.344816</td>\n",
              "      <td>10.011567</td>\n",
              "      <td>2.00</td>\n",
              "      <td>2.5</td>\n",
              "      <td>4.00</td>\n",
              "      <td>10.000</td>\n",
              "      <td>42.00</td>\n",
              "    </tr>\n",
              "    <tr>\n",
              "      <th>P</th>\n",
              "      <td>299.0</td>\n",
              "      <td>8.254515</td>\n",
              "      <td>10.654876</td>\n",
              "      <td>0.00</td>\n",
              "      <td>2.1</td>\n",
              "      <td>4.00</td>\n",
              "      <td>9.000</td>\n",
              "      <td>42.00</td>\n",
              "    </tr>\n",
              "    <tr>\n",
              "      <th>K</th>\n",
              "      <td>299.0</td>\n",
              "      <td>3.097659</td>\n",
              "      <td>3.392198</td>\n",
              "      <td>0.00</td>\n",
              "      <td>2.0</td>\n",
              "      <td>3.00</td>\n",
              "      <td>3.500</td>\n",
              "      <td>19.00</td>\n",
              "    </tr>\n",
              "  </tbody>\n",
              "</table>\n",
              "</div>\n",
              "      <button class=\"colab-df-convert\" onclick=\"convertToInteractive('df-342d39f6-9b83-4f53-a34b-f71b22144f3a')\"\n",
              "              title=\"Convert this dataframe to an interactive table.\"\n",
              "              style=\"display:none;\">\n",
              "        \n",
              "  <svg xmlns=\"http://www.w3.org/2000/svg\" height=\"24px\"viewBox=\"0 0 24 24\"\n",
              "       width=\"24px\">\n",
              "    <path d=\"M0 0h24v24H0V0z\" fill=\"none\"/>\n",
              "    <path d=\"M18.56 5.44l.94 2.06.94-2.06 2.06-.94-2.06-.94-.94-2.06-.94 2.06-2.06.94zm-11 1L8.5 8.5l.94-2.06 2.06-.94-2.06-.94L8.5 2.5l-.94 2.06-2.06.94zm10 10l.94 2.06.94-2.06 2.06-.94-2.06-.94-.94-2.06-.94 2.06-2.06.94z\"/><path d=\"M17.41 7.96l-1.37-1.37c-.4-.4-.92-.59-1.43-.59-.52 0-1.04.2-1.43.59L10.3 9.45l-7.72 7.72c-.78.78-.78 2.05 0 2.83L4 21.41c.39.39.9.59 1.41.59.51 0 1.02-.2 1.41-.59l7.78-7.78 2.81-2.81c.8-.78.8-2.07 0-2.86zM5.41 20L4 18.59l7.72-7.72 1.47 1.35L5.41 20z\"/>\n",
              "  </svg>\n",
              "      </button>\n",
              "      \n",
              "  <style>\n",
              "    .colab-df-container {\n",
              "      display:flex;\n",
              "      flex-wrap:wrap;\n",
              "      gap: 12px;\n",
              "    }\n",
              "\n",
              "    .colab-df-convert {\n",
              "      background-color: #E8F0FE;\n",
              "      border: none;\n",
              "      border-radius: 50%;\n",
              "      cursor: pointer;\n",
              "      display: none;\n",
              "      fill: #1967D2;\n",
              "      height: 32px;\n",
              "      padding: 0 0 0 0;\n",
              "      width: 32px;\n",
              "    }\n",
              "\n",
              "    .colab-df-convert:hover {\n",
              "      background-color: #E2EBFA;\n",
              "      box-shadow: 0px 1px 2px rgba(60, 64, 67, 0.3), 0px 1px 3px 1px rgba(60, 64, 67, 0.15);\n",
              "      fill: #174EA6;\n",
              "    }\n",
              "\n",
              "    [theme=dark] .colab-df-convert {\n",
              "      background-color: #3B4455;\n",
              "      fill: #D2E3FC;\n",
              "    }\n",
              "\n",
              "    [theme=dark] .colab-df-convert:hover {\n",
              "      background-color: #434B5C;\n",
              "      box-shadow: 0px 1px 3px 1px rgba(0, 0, 0, 0.15);\n",
              "      filter: drop-shadow(0px 1px 2px rgba(0, 0, 0, 0.3));\n",
              "      fill: #FFFFFF;\n",
              "    }\n",
              "  </style>\n",
              "\n",
              "      <script>\n",
              "        const buttonEl =\n",
              "          document.querySelector('#df-342d39f6-9b83-4f53-a34b-f71b22144f3a button.colab-df-convert');\n",
              "        buttonEl.style.display =\n",
              "          google.colab.kernel.accessAllowed ? 'block' : 'none';\n",
              "\n",
              "        async function convertToInteractive(key) {\n",
              "          const element = document.querySelector('#df-342d39f6-9b83-4f53-a34b-f71b22144f3a');\n",
              "          const dataTable =\n",
              "            await google.colab.kernel.invokeFunction('convertToInteractive',\n",
              "                                                     [key], {});\n",
              "          if (!dataTable) return;\n",
              "\n",
              "          const docLinkHtml = 'Like what you see? Visit the ' +\n",
              "            '<a target=\"_blank\" href=https://colab.research.google.com/notebooks/data_table.ipynb>data table notebook</a>'\n",
              "            + ' to learn more about interactive tables.';\n",
              "          element.innerHTML = '';\n",
              "          dataTable['output_type'] = 'display_data';\n",
              "          await google.colab.output.renderOutput(dataTable, element);\n",
              "          const docLink = document.createElement('div');\n",
              "          docLink.innerHTML = docLinkHtml;\n",
              "          element.appendChild(docLink);\n",
              "        }\n",
              "      </script>\n",
              "    </div>\n",
              "  </div>\n",
              "  "
            ],
            "text/plain": [
              "             count       mean        std    min   25%    50%     75%    max\n",
              "Temperature  299.0  27.121873   3.649695  20.05  25.0  26.80  29.000  38.00\n",
              "Humidity     299.0  78.824849  15.259550  50.00  64.0  82.23  92.525  99.98\n",
              "N            299.0   8.344816  10.011567   2.00   2.5   4.00  10.000  42.00\n",
              "P            299.0   8.254515  10.654876   0.00   2.1   4.00   9.000  42.00\n",
              "K            299.0   3.097659   3.392198   0.00   2.0   3.00   3.500  19.00"
            ]
          },
          "metadata": {},
          "output_type": "display_data"
        }
      ],
      "source": [
        "# statistics of the numerical variables\n",
        "display(df.describe().T)"
      ]
    },
    {
      "cell_type": "markdown",
      "metadata": {
        "id": "Paoc7wE6Zi6r"
      },
      "source": [
        "**Data Visualization**"
      ]
    },
    {
      "cell_type": "code",
      "execution_count": 49,
      "metadata": {
        "id": "1LAPqvoVZhrb"
      },
      "outputs": [],
      "source": [
        "import matplotlib.pyplot as plt # to visualize graph\n",
        "%matplotlib inline \n",
        "import seaborn as sns # for better visualization of graph with the help of Matplotlib"
      ]
    },
    {
      "cell_type": "code",
      "execution_count": 50,
      "metadata": {
        "colab": {
          "base_uri": "https://localhost:8080/"
        },
        "id": "CUn9uLhzZqyB",
        "outputId": "30dd575f-5c29-4fdb-eba4-8ad82c048f00"
      },
      "outputs": [
        {
          "name": "stdout",
          "output_type": "stream",
          "text": [
            "There are seven class in Fertilizer:  ['DAP and MOP' 'Good NPK' 'MOP' 'Urea and DAP' 'Urea and MOP' 'Urea' 'DAP'\n",
            " '14-35-14' '28-28' '17-17-17' '20-20' '10-26-26']\n"
          ]
        }
      ],
      "source": [
        "# print the unique class of the Fertilizer \n",
        "print(\"There are seven class in Fertilizer: \", df['Fertilizer'].unique())"
      ]
    },
    {
      "cell_type": "code",
      "execution_count": 51,
      "metadata": {
        "colab": {
          "base_uri": "https://localhost:8080/",
          "height": 296
        },
        "id": "o4aqSjDgZ-6J",
        "outputId": "02e0901e-b369-41f3-8927-47150943254d"
      },
      "outputs": [
        {
          "data": {
            "text/plain": [
              "<matplotlib.axes._subplots.AxesSubplot at 0x7fc73fbef710>"
            ]
          },
          "execution_count": 51,
          "metadata": {},
          "output_type": "execute_result"
        },
        {
          "data": {
            "image/png": "[encoded data removed]",
            "text/plain": [
              "<Figure size 432x288 with 1 Axes>"
            ]
          },
          "metadata": {
            "needs_background": "light"
          },
          "output_type": "display_data"
        }
      ],
      "source": [
        "#Visualization of the class in Fertilizer category with countplot\n",
        "sns.countplot(y='Fertilizer',data=df)"
      ]
    },
    {
      "cell_type": "code",
      "execution_count": 52,
      "metadata": {
        "colab": {
          "base_uri": "https://localhost:8080/",
          "height": 279
        },
        "id": "HnydCTtycOrA",
        "outputId": "0e8eefcc-fcba-4e19-e025-38cbdd02d62a"
      },
      "outputs": [
        {
          "data": {
            "image/png": "[encoded data removed]",
            "text/plain": [
              "<Figure size 432x288 with 1 Axes>"
            ]
          },
          "metadata": {
            "needs_background": "light"
          },
          "output_type": "display_data"
        }
      ],
      "source": [
        "sns.boxplot(x = 'Temperature', y = 'Fertilizer', data = df)\n",
        "plt.show()"
      ]
    },
    {
      "cell_type": "code",
      "execution_count": 53,
      "metadata": {
        "colab": {
          "base_uri": "https://localhost:8080/",
          "height": 279
        },
        "id": "K_VamiOCcd-2",
        "outputId": "563b5ab4-d71e-4121-f610-f80abd3b594c"
      },
      "outputs": [
        {
          "data": {
            "image/png": "[encoded data removed]",
            "text/plain": [
              "<Figure size 432x288 with 1 Axes>"
            ]
          },
          "metadata": {
            "needs_background": "light"
          },
          "output_type": "display_data"
        }
      ],
      "source": [
        "sns.boxplot(x = 'Humidity', y = 'Fertilizer', data = df)\n",
        "plt.show()"
      ]
    },
    {
      "cell_type": "code",
      "execution_count": 54,
      "metadata": {
        "colab": {
          "base_uri": "https://localhost:8080/",
          "height": 279
        },
        "id": "J5AA_PvXd9HK",
        "outputId": "139ac167-820c-4b2f-89e3-fcd517044646"
      },
      "outputs": [
        {
          "data": {
            "image/png": "[encoded data removed]",
            "text/plain": [
              "<Figure size 432x288 with 1 Axes>"
            ]
          },
          "metadata": {
            "needs_background": "light"
          },
          "output_type": "display_data"
        }
      ],
      "source": [
        "sns.boxplot(x = 'N', y = 'Fertilizer', data = df)\n",
        "plt.show()"
      ]
    },
    {
      "cell_type": "code",
      "execution_count": 55,
      "metadata": {
        "colab": {
          "base_uri": "https://localhost:8080/",
          "height": 279
        },
        "id": "6QSdLBWEeFYq",
        "outputId": "c84e4713-3085-450c-90f9-9600c6f287b8"
      },
      "outputs": [
        {
          "data": {
            "image/png": "[encoded data removed]",
            "text/plain": [
              "<Figure size 432x288 with 1 Axes>"
            ]
          },
          "metadata": {
            "needs_background": "light"
          },
          "output_type": "display_data"
        }
      ],
      "source": [
        "sns.boxplot(x = 'P', y = 'Fertilizer', data = df)\n",
        "plt.show()"
      ]
    },
    {
      "cell_type": "code",
      "execution_count": 56,
      "metadata": {
        "colab": {
          "base_uri": "https://localhost:8080/",
          "height": 279
        },
        "id": "tDn24za1eOM-",
        "outputId": "f827f139-1ccc-4467-f700-5f73d302b11e"
      },
      "outputs": [
        {
          "data": {
            "image/png": "[encoded data removed]",
            "text/plain": [
              "<Figure size 432x288 with 1 Axes>"
            ]
          },
          "metadata": {
            "needs_background": "light"
          },
          "output_type": "display_data"
        }
      ],
      "source": [
        "sns.boxplot(x = 'K', y = 'Fertilizer', data = df)\n",
        "plt.show()"
      ]
    },
    {
      "cell_type": "code",
      "execution_count": 57,
      "metadata": {
        "id": "O__aCG6joaEB"
      },
      "outputs": [],
      "source": [
        "#convert catagorical data to numerical data\n",
        "df['Crop'],_=pd.factorize(df['Crop'])\n",
        "df['Soil'],_=pd.factorize(df['Soil'])"
      ]
    },
    {
      "cell_type": "code",
      "execution_count": 58,
      "metadata": {
        "colab": {
          "base_uri": "https://localhost:8080/",
          "height": 279
        },
        "id": "o_kSrg-Blqkd",
        "outputId": "ec80bc87-d7e8-4b74-a1b0-fa4cd648900c"
      },
      "outputs": [
        {
          "data": {
            "image/png": "[encoded data removed]",
            "text/plain": [
              "<Figure size 432x288 with 1 Axes>"
            ]
          },
          "metadata": {
            "needs_background": "light"
          },
          "output_type": "display_data"
        }
      ],
      "source": [
        "sns.boxplot(x = 'Soil', y = 'Fertilizer', data = df)\n",
        "plt.show()"
      ]
    },
    {
      "cell_type": "code",
      "execution_count": 59,
      "metadata": {
        "colab": {
          "base_uri": "https://localhost:8080/",
          "height": 279
        },
        "id": "Gggs_ZalluY6",
        "outputId": "f2c0392e-a1ff-4529-e329-2fae68b6c977"
      },
      "outputs": [
        {
          "data": {
            "image/png": "[encoded data removed]",
            "text/plain": [
              "<Figure size 432x288 with 1 Axes>"
            ]
          },
          "metadata": {
            "needs_background": "light"
          },
          "output_type": "display_data"
        }
      ],
      "source": [
        "sns.boxplot(x = 'Crop', y = 'Fertilizer', data = df)\n",
        "plt.show()"
      ]
    },
    {
      "cell_type": "code",
      "execution_count": 60,
      "metadata": {
        "colab": {
          "base_uri": "https://localhost:8080/",
          "height": 269
        },
        "id": "36eU1NmBbCrj",
        "outputId": "447add1c-7226-4ba3-fa69-f810a53a153f"
      },
      "outputs": [
        {
          "data": {
            "text/html": [
              "\n",
              "  <div id=\"df-6c17b335-7a87-43ee-b39a-cce098dc17e6\">\n",
              "    <div class=\"colab-df-container\">\n",
              "      <div>\n",
              "<style scoped>\n",
              "    .dataframe tbody tr th:only-of-type {\n",
              "        vertical-align: middle;\n",
              "    }\n",
              "\n",
              "    .dataframe tbody tr th {\n",
              "        vertical-align: top;\n",
              "    }\n",
              "\n",
              "    .dataframe thead th {\n",
              "        text-align: right;\n",
              "    }\n",
              "</style>\n",
              "<table border=\"1\" class=\"dataframe\">\n",
              "  <thead>\n",
              "    <tr style=\"text-align: right;\">\n",
              "      <th></th>\n",
              "      <th>Temperature</th>\n",
              "      <th>Humidity</th>\n",
              "      <th>N</th>\n",
              "      <th>P</th>\n",
              "      <th>K</th>\n",
              "      <th>Soil</th>\n",
              "      <th>Crop</th>\n",
              "    </tr>\n",
              "  </thead>\n",
              "  <tbody>\n",
              "    <tr>\n",
              "      <th>Temperature</th>\n",
              "      <td>1.000000</td>\n",
              "      <td>-0.298659</td>\n",
              "      <td>0.443765</td>\n",
              "      <td>0.502891</td>\n",
              "      <td>0.039062</td>\n",
              "      <td>0.517352</td>\n",
              "      <td>0.539615</td>\n",
              "    </tr>\n",
              "    <tr>\n",
              "      <th>Humidity</th>\n",
              "      <td>-0.298659</td>\n",
              "      <td>1.000000</td>\n",
              "      <td>-0.684574</td>\n",
              "      <td>-0.586144</td>\n",
              "      <td>-0.048414</td>\n",
              "      <td>-0.474609</td>\n",
              "      <td>-0.751302</td>\n",
              "    </tr>\n",
              "    <tr>\n",
              "      <th>N</th>\n",
              "      <td>0.443765</td>\n",
              "      <td>-0.684574</td>\n",
              "      <td>1.000000</td>\n",
              "      <td>0.177575</td>\n",
              "      <td>-0.279483</td>\n",
              "      <td>0.451983</td>\n",
              "      <td>0.688040</td>\n",
              "    </tr>\n",
              "    <tr>\n",
              "      <th>P</th>\n",
              "      <td>0.502891</td>\n",
              "      <td>-0.586144</td>\n",
              "      <td>0.177575</td>\n",
              "      <td>1.000000</td>\n",
              "      <td>0.102692</td>\n",
              "      <td>0.448568</td>\n",
              "      <td>0.564638</td>\n",
              "    </tr>\n",
              "    <tr>\n",
              "      <th>K</th>\n",
              "      <td>0.039062</td>\n",
              "      <td>-0.048414</td>\n",
              "      <td>-0.279483</td>\n",
              "      <td>0.102692</td>\n",
              "      <td>1.000000</td>\n",
              "      <td>0.004963</td>\n",
              "      <td>-0.018933</td>\n",
              "    </tr>\n",
              "    <tr>\n",
              "      <th>Soil</th>\n",
              "      <td>0.517352</td>\n",
              "      <td>-0.474609</td>\n",
              "      <td>0.451983</td>\n",
              "      <td>0.448568</td>\n",
              "      <td>0.004963</td>\n",
              "      <td>1.000000</td>\n",
              "      <td>0.478567</td>\n",
              "    </tr>\n",
              "    <tr>\n",
              "      <th>Crop</th>\n",
              "      <td>0.539615</td>\n",
              "      <td>-0.751302</td>\n",
              "      <td>0.688040</td>\n",
              "      <td>0.564638</td>\n",
              "      <td>-0.018933</td>\n",
              "      <td>0.478567</td>\n",
              "      <td>1.000000</td>\n",
              "    </tr>\n",
              "  </tbody>\n",
              "</table>\n",
              "</div>\n",
              "      <button class=\"colab-df-convert\" onclick=\"convertToInteractive('df-6c17b335-7a87-43ee-b39a-cce098dc17e6')\"\n",
              "              title=\"Convert this dataframe to an interactive table.\"\n",
              "              style=\"display:none;\">\n",
              "        \n",
              "  <svg xmlns=\"http://www.w3.org/2000/svg\" height=\"24px\"viewBox=\"0 0 24 24\"\n",
              "       width=\"24px\">\n",
              "    <path d=\"M0 0h24v24H0V0z\" fill=\"none\"/>\n",
              "    <path d=\"M18.56 5.44l.94 2.06.94-2.06 2.06-.94-2.06-.94-.94-2.06-.94 2.06-2.06.94zm-11 1L8.5 8.5l.94-2.06 2.06-.94-2.06-.94L8.5 2.5l-.94 2.06-2.06.94zm10 10l.94 2.06.94-2.06 2.06-.94-2.06-.94-.94-2.06-.94 2.06-2.06.94z\"/><path d=\"M17.41 7.96l-1.37-1.37c-.4-.4-.92-.59-1.43-.59-.52 0-1.04.2-1.43.59L10.3 9.45l-7.72 7.72c-.78.78-.78 2.05 0 2.83L4 21.41c.39.39.9.59 1.41.59.51 0 1.02-.2 1.41-.59l7.78-7.78 2.81-2.81c.8-.78.8-2.07 0-2.86zM5.41 20L4 18.59l7.72-7.72 1.47 1.35L5.41 20z\"/>\n",
              "  </svg>\n",
              "      </button>\n",
              "      \n",
              "  <style>\n",
              "    .colab-df-container {\n",
              "      display:flex;\n",
              "      flex-wrap:wrap;\n",
              "      gap: 12px;\n",
              "    }\n",
              "\n",
              "    .colab-df-convert {\n",
              "      background-color: #E8F0FE;\n",
              "      border: none;\n",
              "      border-radius: 50%;\n",
              "      cursor: pointer;\n",
              "      display: none;\n",
              "      fill: #1967D2;\n",
              "      height: 32px;\n",
              "      padding: 0 0 0 0;\n",
              "      width: 32px;\n",
              "    }\n",
              "\n",
              "    .colab-df-convert:hover {\n",
              "      background-color: #E2EBFA;\n",
              "      box-shadow: 0px 1px 2px rgba(60, 64, 67, 0.3), 0px 1px 3px 1px rgba(60, 64, 67, 0.15);\n",
              "      fill: #174EA6;\n",
              "    }\n",
              "\n",
              "    [theme=dark] .colab-df-convert {\n",
              "      background-color: #3B4455;\n",
              "      fill: #D2E3FC;\n",
              "    }\n",
              "\n",
              "    [theme=dark] .colab-df-convert:hover {\n",
              "      background-color: #434B5C;\n",
              "      box-shadow: 0px 1px 3px 1px rgba(0, 0, 0, 0.15);\n",
              "      filter: drop-shadow(0px 1px 2px rgba(0, 0, 0, 0.3));\n",
              "      fill: #FFFFFF;\n",
              "    }\n",
              "  </style>\n",
              "\n",
              "      <script>\n",
              "        const buttonEl =\n",
              "          document.querySelector('#df-6c17b335-7a87-43ee-b39a-cce098dc17e6 button.colab-df-convert');\n",
              "        buttonEl.style.display =\n",
              "          google.colab.kernel.accessAllowed ? 'block' : 'none';\n",
              "\n",
              "        async function convertToInteractive(key) {\n",
              "          const element = document.querySelector('#df-6c17b335-7a87-43ee-b39a-cce098dc17e6');\n",
              "          const dataTable =\n",
              "            await google.colab.kernel.invokeFunction('convertToInteractive',\n",
              "                                                     [key], {});\n",
              "          if (!dataTable) return;\n",
              "\n",
              "          const docLinkHtml = 'Like what you see? Visit the ' +\n",
              "            '<a target=\"_blank\" href=https://colab.research.google.com/notebooks/data_table.ipynb>data table notebook</a>'\n",
              "            + ' to learn more about interactive tables.';\n",
              "          element.innerHTML = '';\n",
              "          dataTable['output_type'] = 'display_data';\n",
              "          await google.colab.output.renderOutput(dataTable, element);\n",
              "          const docLink = document.createElement('div');\n",
              "          docLink.innerHTML = docLinkHtml;\n",
              "          element.appendChild(docLink);\n",
              "        }\n",
              "      </script>\n",
              "    </div>\n",
              "  </div>\n",
              "  "
            ],
            "text/plain": [
              "             Temperature  Humidity         N         P         K      Soil  \\\n",
              "Temperature     1.000000 -0.298659  0.443765  0.502891  0.039062  0.517352   \n",
              "Humidity       -0.298659  1.000000 -0.684574 -0.586144 -0.048414 -0.474609   \n",
              "N               0.443765 -0.684574  1.000000  0.177575 -0.279483  0.451983   \n",
              "P               0.502891 -0.586144  0.177575  1.000000  0.102692  0.448568   \n",
              "K               0.039062 -0.048414 -0.279483  0.102692  1.000000  0.004963   \n",
              "Soil            0.517352 -0.474609  0.451983  0.448568  0.004963  1.000000   \n",
              "Crop            0.539615 -0.751302  0.688040  0.564638 -0.018933  0.478567   \n",
              "\n",
              "                 Crop  \n",
              "Temperature  0.539615  \n",
              "Humidity    -0.751302  \n",
              "N            0.688040  \n",
              "P            0.564638  \n",
              "K           -0.018933  \n",
              "Soil         0.478567  \n",
              "Crop         1.000000  "
            ]
          },
          "execution_count": 60,
          "metadata": {},
          "output_type": "execute_result"
        }
      ],
      "source": [
        "c = df.corr()\n",
        "c"
      ]
    },
    {
      "cell_type": "code",
      "execution_count": 61,
      "metadata": {
        "colab": {
          "base_uri": "https://localhost:8080/",
          "height": 595
        },
        "id": "xCtVd0wVa7Xm",
        "outputId": "35cfc328-f4c1-46c0-a828-5c2c1ac06c77"
      },
      "outputs": [
        {
          "data": {
            "image/png": "[encoded data removed]",
            "text/plain": [
              "<Figure size 864x720 with 2 Axes>"
            ]
          },
          "metadata": {
            "needs_background": "light"
          },
          "output_type": "display_data"
        }
      ],
      "source": [
        "plt.figure(figsize=(12,10))\n",
        "sns.heatmap(c,annot=True,cmap='Blues')\n",
        "plt.show()"
      ]
    },
    {
      "cell_type": "code",
      "execution_count": 62,
      "metadata": {
        "id": "2gbjo4-ko53f"
      },
      "outputs": [],
      "source": [
        "df['Fertilizer'],_=pd.factorize(df['Fertilizer'])"
      ]
    },
    {
      "cell_type": "code",
      "execution_count": 63,
      "metadata": {
        "colab": {
          "base_uri": "https://localhost:8080/",
          "height": 206
        },
        "id": "hQMNnfyFo6kb",
        "outputId": "99f7c232-a34d-4ad6-c92d-7b2de551a6d8"
      },
      "outputs": [
        {
          "data": {
            "text/html": [
              "\n",
              "  <div id=\"df-45a8fff0-9222-4272-aad7-095bcd99359c\">\n",
              "    <div class=\"colab-df-container\">\n",
              "      <div>\n",
              "<style scoped>\n",
              "    .dataframe tbody tr th:only-of-type {\n",
              "        vertical-align: middle;\n",
              "    }\n",
              "\n",
              "    .dataframe tbody tr th {\n",
              "        vertical-align: top;\n",
              "    }\n",
              "\n",
              "    .dataframe thead th {\n",
              "        text-align: right;\n",
              "    }\n",
              "</style>\n",
              "<table border=\"1\" class=\"dataframe\">\n",
              "  <thead>\n",
              "    <tr style=\"text-align: right;\">\n",
              "      <th></th>\n",
              "      <th>Temperature</th>\n",
              "      <th>Humidity</th>\n",
              "      <th>N</th>\n",
              "      <th>P</th>\n",
              "      <th>K</th>\n",
              "      <th>Soil</th>\n",
              "      <th>Crop</th>\n",
              "      <th>Fertilizer</th>\n",
              "    </tr>\n",
              "  </thead>\n",
              "  <tbody>\n",
              "    <tr>\n",
              "      <th>0</th>\n",
              "      <td>24.87</td>\n",
              "      <td>82.84</td>\n",
              "      <td>4.0</td>\n",
              "      <td>2.0</td>\n",
              "      <td>2.5</td>\n",
              "      <td>0</td>\n",
              "      <td>0</td>\n",
              "      <td>0</td>\n",
              "    </tr>\n",
              "    <tr>\n",
              "      <th>1</th>\n",
              "      <td>28.69</td>\n",
              "      <td>96.65</td>\n",
              "      <td>4.0</td>\n",
              "      <td>4.0</td>\n",
              "      <td>4.0</td>\n",
              "      <td>1</td>\n",
              "      <td>1</td>\n",
              "      <td>1</td>\n",
              "    </tr>\n",
              "    <tr>\n",
              "      <th>2</th>\n",
              "      <td>20.27</td>\n",
              "      <td>81.64</td>\n",
              "      <td>4.0</td>\n",
              "      <td>4.0</td>\n",
              "      <td>2.0</td>\n",
              "      <td>2</td>\n",
              "      <td>0</td>\n",
              "      <td>2</td>\n",
              "    </tr>\n",
              "    <tr>\n",
              "      <th>3</th>\n",
              "      <td>25.07</td>\n",
              "      <td>95.02</td>\n",
              "      <td>2.0</td>\n",
              "      <td>2.1</td>\n",
              "      <td>3.5</td>\n",
              "      <td>3</td>\n",
              "      <td>1</td>\n",
              "      <td>3</td>\n",
              "    </tr>\n",
              "    <tr>\n",
              "      <th>4</th>\n",
              "      <td>25.04</td>\n",
              "      <td>95.90</td>\n",
              "      <td>2.0</td>\n",
              "      <td>3.9</td>\n",
              "      <td>2.1</td>\n",
              "      <td>4</td>\n",
              "      <td>1</td>\n",
              "      <td>4</td>\n",
              "    </tr>\n",
              "  </tbody>\n",
              "</table>\n",
              "</div>\n",
              "      <button class=\"colab-df-convert\" onclick=\"convertToInteractive('df-45a8fff0-9222-4272-aad7-095bcd99359c')\"\n",
              "              title=\"Convert this dataframe to an interactive table.\"\n",
              "              style=\"display:none;\">\n",
              "        \n",
              "  <svg xmlns=\"http://www.w3.org/2000/svg\" height=\"24px\"viewBox=\"0 0 24 24\"\n",
              "       width=\"24px\">\n",
              "    <path d=\"M0 0h24v24H0V0z\" fill=\"none\"/>\n",
              "    <path d=\"M18.56 5.44l.94 2.06.94-2.06 2.06-.94-2.06-.94-.94-2.06-.94 2.06-2.06.94zm-11 1L8.5 8.5l.94-2.06 2.06-.94-2.06-.94L8.5 2.5l-.94 2.06-2.06.94zm10 10l.94 2.06.94-2.06 2.06-.94-2.06-.94-.94-2.06-.94 2.06-2.06.94z\"/><path d=\"M17.41 7.96l-1.37-1.37c-.4-.4-.92-.59-1.43-.59-.52 0-1.04.2-1.43.59L10.3 9.45l-7.72 7.72c-.78.78-.78 2.05 0 2.83L4 21.41c.39.39.9.59 1.41.59.51 0 1.02-.2 1.41-.59l7.78-7.78 2.81-2.81c.8-.78.8-2.07 0-2.86zM5.41 20L4 18.59l7.72-7.72 1.47 1.35L5.41 20z\"/>\n",
              "  </svg>\n",
              "      </button>\n",
              "      \n",
              "  <style>\n",
              "    .colab-df-container {\n",
              "      display:flex;\n",
              "      flex-wrap:wrap;\n",
              "      gap: 12px;\n",
              "    }\n",
              "\n",
              "    .colab-df-convert {\n",
              "      background-color: #E8F0FE;\n",
              "      border: none;\n",
              "      border-radius: 50%;\n",
              "      cursor: pointer;\n",
              "      display: none;\n",
              "      fill: #1967D2;\n",
              "      height: 32px;\n",
              "      padding: 0 0 0 0;\n",
              "      width: 32px;\n",
              "    }\n",
              "\n",
              "    .colab-df-convert:hover {\n",
              "      background-color: #E2EBFA;\n",
              "      box-shadow: 0px 1px 2px rgba(60, 64, 67, 0.3), 0px 1px 3px 1px rgba(60, 64, 67, 0.15);\n",
              "      fill: #174EA6;\n",
              "    }\n",
              "\n",
              "    [theme=dark] .colab-df-convert {\n",
              "      background-color: #3B4455;\n",
              "      fill: #D2E3FC;\n",
              "    }\n",
              "\n",
              "    [theme=dark] .colab-df-convert:hover {\n",
              "      background-color: #434B5C;\n",
              "      box-shadow: 0px 1px 3px 1px rgba(0, 0, 0, 0.15);\n",
              "      filter: drop-shadow(0px 1px 2px rgba(0, 0, 0, 0.3));\n",
              "      fill: #FFFFFF;\n",
              "    }\n",
              "  </style>\n",
              "\n",
              "      <script>\n",
              "        const buttonEl =\n",
              "          document.querySelector('#df-45a8fff0-9222-4272-aad7-095bcd99359c button.colab-df-convert');\n",
              "        buttonEl.style.display =\n",
              "          google.colab.kernel.accessAllowed ? 'block' : 'none';\n",
              "\n",
              "        async function convertToInteractive(key) {\n",
              "          const element = document.querySelector('#df-45a8fff0-9222-4272-aad7-095bcd99359c');\n",
              "          const dataTable =\n",
              "            await google.colab.kernel.invokeFunction('convertToInteractive',\n",
              "                                                     [key], {});\n",
              "          if (!dataTable) return;\n",
              "\n",
              "          const docLinkHtml = 'Like what you see? Visit the ' +\n",
              "            '<a target=\"_blank\" href=https://colab.research.google.com/notebooks/data_table.ipynb>data table notebook</a>'\n",
              "            + ' to learn more about interactive tables.';\n",
              "          element.innerHTML = '';\n",
              "          dataTable['output_type'] = 'display_data';\n",
              "          await google.colab.output.renderOutput(dataTable, element);\n",
              "          const docLink = document.createElement('div');\n",
              "          docLink.innerHTML = docLinkHtml;\n",
              "          element.appendChild(docLink);\n",
              "        }\n",
              "      </script>\n",
              "    </div>\n",
              "  </div>\n",
              "  "
            ],
            "text/plain": [
              "   Temperature  Humidity    N    P    K  Soil  Crop  Fertilizer\n",
              "0        24.87     82.84  4.0  2.0  2.5     0     0           0\n",
              "1        28.69     96.65  4.0  4.0  4.0     1     1           1\n",
              "2        20.27     81.64  4.0  4.0  2.0     2     0           2\n",
              "3        25.07     95.02  2.0  2.1  3.5     3     1           3\n",
              "4        25.04     95.90  2.0  3.9  2.1     4     1           4"
            ]
          },
          "execution_count": 63,
          "metadata": {},
          "output_type": "execute_result"
        }
      ],
      "source": [
        "x=df.iloc[:,0:7].values    #sklearn accepts input data in 2D numpy array\n",
        "y=df.iloc[:,7].values           #sklearn accepts output data in 1D numpy array\n",
        "df.head()"
      ]
    },
    {
      "cell_type": "code",
      "execution_count": 64,
      "metadata": {
        "colab": {
          "base_uri": "https://localhost:8080/"
        },
        "id": "Jii_lzQ-pE3u",
        "outputId": "2a7320e7-d3ce-49cc-8c36-57e01fbacc2e"
      },
      "outputs": [
        {
          "name": "stdout",
          "output_type": "stream",
          "text": [
            "(224, 7)\n",
            "(224,)\n",
            "(75, 7)\n",
            "(75,)\n"
          ]
        }
      ],
      "source": [
        "#train test split \n",
        "from sklearn.model_selection import train_test_split \n",
        "x_train,x_test,y_train,y_test = train_test_split(x,y,random_state=0)  #Training dataset:75%   #Testing Dataset:25%\n",
        "\n",
        "# Feature Scaling\n",
        "# from sklearn.preprocessing import StandardScaler\n",
        "# scaler = StandardScaler()\n",
        "# scaler.fit(x_train)\n",
        "# x_train = scaler.transform(x_train)\n",
        "# x_test = scaler.transform(x_test)\n",
        "\n",
        "print(x_train.shape)\n",
        "print(y_train.shape)\n",
        "print(x_test.shape)\n",
        "print(y_test.shape)"
      ]
    },
    {
      "cell_type": "code",
      "execution_count": 65,
      "metadata": {
        "id": "FjfIJuoWVs-1"
      },
      "outputs": [],
      "source": [
        "from sklearn.metrics import confusion_matrix,classification_report,accuracy_score\n",
        "def gen_metrics(model,ypred,x_train,x_test,y_train,y_test):\n",
        "    print('Training score',model.score(x_train,y_train))\n",
        "    print('Testing score',model.score(x_test,y_test))\n",
        "    print('predicted Results\\n',ypred)\n",
        "    cm = confusion_matrix(y_test,ypred)\n",
        "    print('Confusion Matrix\\n',cm)\n",
        "    print('Classficaition Report\\n',classification_report(y_test,ypred))"
      ]
    },
    {
      "cell_type": "code",
      "execution_count": 66,
      "metadata": {
        "colab": {
          "base_uri": "https://localhost:8080/"
        },
        "id": "gAhLCvDFrgsi",
        "outputId": "f32b2a4a-b5e5-46de-edce-367c51337bc8"
      },
      "outputs": [
        {
          "name": "stdout",
          "output_type": "stream",
          "text": [
            "72.0\n",
            "Training score 0.6875\n",
            "Testing score 0.72\n",
            "predicted Results\n",
            " [10  0  1  8  8  3  8  9  3  1 10  4  4 10  1  4 10  4  5  8  4  1  3  3\n",
            " 10  4  4  7  8  7  0  1  4  1  8  0  0  0 10  4 11  1  0  3  4  1  8  4\n",
            "  0  1  3 11  3  4  4  8  1  3 10  3  3  3  2  5  8  8  8  4  4  1  3  7\n",
            "  8  4  3]\n",
            "Confusion Matrix\n",
            " [[ 2  0  0  1  1  0  0  0  0  0  0  0]\n",
            " [ 0  9  0  0  0  0  0  0  0  0  0  0]\n",
            " [ 0  0  1  0  1  0  0  0  0  0  0  0]\n",
            " [ 0  0  0 12  0  0  0  0  0  0  0  0]\n",
            " [ 0  0  0  0  8  0  0  0  0  0  0  0]\n",
            " [ 0  0  0  0  6  2  0  0  0  0  0  0]\n",
            " [ 5  2  0  0  0  0  0  0  5  0  0  0]\n",
            " [ 0  0  0  0  0  0  0  3  0  0  0  0]\n",
            " [ 0  0  0  0  0  0  0  0  7  0  0  0]\n",
            " [ 0  0  0  0  0  0  0  0  0  1  0  0]\n",
            " [ 0  0  0  0  0  0  0  0  0  0  7  0]\n",
            " [ 0  0  0  0  0  0  0  0  0  0  0  2]]\n",
            "Classficaition Report\n",
            "               precision    recall  f1-score   support\n",
            "\n",
            "           0       0.29      0.50      0.36         4\n",
            "           1       0.82      1.00      0.90         9\n",
            "           2       1.00      0.50      0.67         2\n",
            "           3       0.92      1.00      0.96        12\n",
            "           4       0.50      1.00      0.67         8\n",
            "           5       1.00      0.25      0.40         8\n",
            "           6       0.00      0.00      0.00        12\n",
            "           7       1.00      1.00      1.00         3\n",
            "           8       0.58      1.00      0.74         7\n",
            "           9       1.00      1.00      1.00         1\n",
            "          10       1.00      1.00      1.00         7\n",
            "          11       1.00      1.00      1.00         2\n",
            "\n",
            "    accuracy                           0.72        75\n",
            "   macro avg       0.76      0.77      0.72        75\n",
            "weighted avg       0.68      0.72      0.65        75\n",
            "\n"
          ]
        },
        {
          "name": "stderr",
          "output_type": "stream",
          "text": [
            "/usr/local/lib/python3.7/dist-packages/sklearn/metrics/_classification.py:1318: UndefinedMetricWarning: Precision and F-score are ill-defined and being set to 0.0 in labels with no predicted samples. Use `zero_division` parameter to control this behavior.\n",
            "  _warn_prf(average, modifier, msg_start, len(result))\n",
            "/usr/local/lib/python3.7/dist-packages/sklearn/metrics/_classification.py:1318: UndefinedMetricWarning: Precision and F-score are ill-defined and being set to 0.0 in labels with no predicted samples. Use `zero_division` parameter to control this behavior.\n",
            "  _warn_prf(average, modifier, msg_start, len(result))\n",
            "/usr/local/lib/python3.7/dist-packages/sklearn/metrics/_classification.py:1318: UndefinedMetricWarning: Precision and F-score are ill-defined and being set to 0.0 in labels with no predicted samples. Use `zero_division` parameter to control this behavior.\n",
            "  _warn_prf(average, modifier, msg_start, len(result))\n"
          ]
        }
      ],
      "source": [
        "# Method 1 : Naive Bayes\n",
        "from sklearn.naive_bayes import MultinomialNB\n",
        "import matplotlib.pyplot as plt \n",
        "import seaborn as sns \n",
        "model1 = MultinomialNB() \n",
        "model1.fit(x_train,y_train)\n",
        "y_pred1 = model1.predict(x_test)\n",
        "\n",
        "from sklearn.metrics import accuracy_score\n",
        "model1_accuracy=accuracy_score(y_pred1,y_test)*100\n",
        "print(model1_accuracy)\n",
        "gen_metrics(model1,y_pred1,x_train,x_test,y_train,y_test)\n",
        "\n"
      ]
    },
    {
      "cell_type": "code",
      "execution_count": 67,
      "metadata": {
        "colab": {
          "base_uri": "https://localhost:8080/"
        },
        "id": "IZHPRVBgkLzl",
        "outputId": "a9b74853-f19b-4c93-f686-bd352e06c109"
      },
      "outputs": [
        {
          "name": "stdout",
          "output_type": "stream",
          "text": [
            "Prediction1 =  [0]\n",
            "Prediction2 =  [1]\n",
            "Prediction3 =  [4]\n",
            "Prediction4 =  [3]\n",
            "Prediction5 =  [4]\n",
            "Prediction6 =  [8]\n",
            "Prediction7 =  [8]\n",
            "Prediction8 =  [5]\n",
            "Prediction9 =  [10]\n",
            "Prediction10 =  [11]\n"
          ]
        }
      ],
      "source": [
        "# # Predict output for some unknown sample \n",
        "test_X1 = np.array([24.87,82.84,4,2,2.5,0,1]) #0\n",
        "pred_y1 = model1.predict(test_X1.reshape(1, -1)) \n",
        "print(\"Prediction1 = \", pred_y1)\n",
        "\n",
        "test_X2 = np.array([28.69,96.65,4.0,4.0,4.0,1,1]) #1\n",
        "pred_y2 = model1.predict(test_X2.reshape(1, -1)) \n",
        "print(\"Prediction2 = \", pred_y2)\n",
        "\n",
        "test_X3 = np.array([20.27,81.64,4.0,4.0,2.0,2,0]) #2 \n",
        "pred_y3 = model1.predict(test_X3.reshape(1, -1)) \n",
        "print(\"Prediction3 = \", pred_y3)\n",
        "\n",
        "test_X4 = np.array([25.07,95.02,2.0,2.1,3.5,3,1]) #3\n",
        "pred_y4 = model1.predict(test_X4.reshape(1, -1)) \n",
        "print(\"Prediction4 = \", pred_y4)\n",
        "\n",
        "test_X5 = np.array([25.04,95.90,2.0,3.9,2.1,4,1]) #4\n",
        "pred_y5 = model1.predict(test_X5.reshape(1, -1)) \n",
        "print(\"Prediction5 = \", pred_y5)\n",
        "\n",
        "test_X6 = np.array([36.0,60.0,15.0,41.0,0.0,7,9]) #6\n",
        "pred_y6 = model1.predict(test_X6.reshape(1, -1)) \n",
        "print(\"Prediction6 = \", pred_y6)\n",
        "\n",
        "test_X7 = np.array([25.0,50.0,24.0,19.0,0.0,0,11]) #8 \n",
        "pred_y7 = model1.predict(test_X7.reshape(1, -1)) \n",
        "print(\"Prediction7 = \", pred_y7)\n",
        "\n",
        "test_X8 = np.array([38,72,39,0,0,8,8])  #5\n",
        "pred_y8 = model1.predict(test_X8.reshape(1, -1)) \n",
        "print(\"Prediction8 = \", pred_y8)\n",
        "\n",
        "test_X9 = np.array([29.0,58.0,12.0,10.0,0.0,9,3]) #10\n",
        "pred_y9 = model1.predict(test_X9.reshape(1, -1)) \n",
        "print(\"Prediction9 = \", pred_y9)\n",
        "\n",
        "test_X10 = np.array([30.0,60.0,4.0,17.0,17.0,10,5]) #11\n",
        "pred_y10 = model1.predict(test_X10.reshape(1, -1)) \n",
        "print(\"Prediction10 = \", pred_y10)"
      ]
    },
    {
      "cell_type": "code",
      "execution_count": 68,
      "metadata": {
        "colab": {
          "base_uri": "https://localhost:8080/"
        },
        "id": "aLPiVwtGwa6M",
        "outputId": "b9b3120e-1aeb-47db-c9c6-5c066dc89432"
      },
      "outputs": [
        {
          "name": "stdout",
          "output_type": "stream",
          "text": [
            "94.66666666666667\n",
            "Training score 0.9553571428571429\n",
            "Testing score 0.9466666666666667\n",
            "predicted Results\n",
            " [10  6  1  6  6  3  6  9  3  1 10  5  4 10  1  4 10  4  5  8  4  6  3  3\n",
            " 10  4  4  7  8  7  0  1  4  1  8  6  6  6 10  4 11  1  0  0  5  1  8  4\n",
            "  6  6  3 11  3  4  4  8  1  3 10  3  3  3  2  5  8  6  6  4  2  1  3  7\n",
            "  8  5  3]\n",
            "Confusion Matrix\n",
            " [[ 3  0  0  0  1  0  0  0  0  0  0  0]\n",
            " [ 0  9  0  0  0  0  0  0  0  0  0  0]\n",
            " [ 0  0  2  0  0  0  0  0  0  0  0  0]\n",
            " [ 0  0  0 12  0  0  0  0  0  0  0  0]\n",
            " [ 0  0  0  0  8  0  0  0  0  0  0  0]\n",
            " [ 0  0  0  0  3  5  0  0  0  0  0  0]\n",
            " [ 0  0  0  0  0  0 12  0  0  0  0  0]\n",
            " [ 0  0  0  0  0  0  0  3  0  0  0  0]\n",
            " [ 0  0  0  0  0  0  0  0  7  0  0  0]\n",
            " [ 0  0  0  0  0  0  0  0  0  1  0  0]\n",
            " [ 0  0  0  0  0  0  0  0  0  0  7  0]\n",
            " [ 0  0  0  0  0  0  0  0  0  0  0  2]]\n",
            "Classficaition Report\n",
            "               precision    recall  f1-score   support\n",
            "\n",
            "           0       1.00      0.75      0.86         4\n",
            "           1       1.00      1.00      1.00         9\n",
            "           2       1.00      1.00      1.00         2\n",
            "           3       1.00      1.00      1.00        12\n",
            "           4       0.67      1.00      0.80         8\n",
            "           5       1.00      0.62      0.77         8\n",
            "           6       1.00      1.00      1.00        12\n",
            "           7       1.00      1.00      1.00         3\n",
            "           8       1.00      1.00      1.00         7\n",
            "           9       1.00      1.00      1.00         1\n",
            "          10       1.00      1.00      1.00         7\n",
            "          11       1.00      1.00      1.00         2\n",
            "\n",
            "    accuracy                           0.95        75\n",
            "   macro avg       0.97      0.95      0.95        75\n",
            "weighted avg       0.96      0.95      0.95        75\n",
            "\n"
          ]
        }
      ],
      "source": [
        "# Method 2 : SVC\n",
        "\n",
        "from sklearn.svm import SVC \n",
        "model2 = SVC(kernel='linear') \n",
        "model2.fit(x_train,y_train)\n",
        "y_pred2 = model2.predict(x_test)         \n",
        "\n",
        "from sklearn.metrics import accuracy_score\n",
        "model2_accuracy=accuracy_score(y_pred2,y_test)*100\n",
        "print(model2_accuracy)\n",
        "gen_metrics(model2,y_pred2,x_train,x_test,y_train,y_test)"
      ]
    },
    {
      "cell_type": "code",
      "execution_count": 69,
      "metadata": {
        "colab": {
          "base_uri": "https://localhost:8080/"
        },
        "id": "q-mUSz4Upf0x",
        "outputId": "58828da0-a7da-4ed6-be33-018e1e552c1e"
      },
      "outputs": [
        {
          "name": "stdout",
          "output_type": "stream",
          "text": [
            "Prediction1 =  [0]\n",
            "Prediction2 =  [1]\n",
            "Prediction3 =  [2]\n",
            "Prediction4 =  [3]\n",
            "Prediction5 =  [4]\n",
            "Prediction6 =  [6]\n",
            "Prediction7 =  [8]\n",
            "Prediction8 =  [5]\n",
            "Prediction9 =  [10]\n",
            "Prediction10 =  [11]\n"
          ]
        }
      ],
      "source": [
        "# # Predict output for some unknown sample \n",
        "test_X1 = np.array([24.87,82.84,4,2,2.5,0,1]) \n",
        "pred_y1 = model2.predict(test_X1.reshape(1, -1)) \n",
        "print(\"Prediction1 = \", pred_y1)\n",
        "\n",
        "test_X2 = np.array([28.69,96.65,4.0,4.0,4.0,1,1]) \n",
        "pred_y2 = model2.predict(test_X2.reshape(1, -1)) \n",
        "print(\"Prediction2 = \", pred_y2)\n",
        "\n",
        "test_X3 = np.array([20.27,81.64,4.0,4.0,2.0,2,0]) \n",
        "pred_y3 = model2.predict(test_X3.reshape(1, -1)) \n",
        "print(\"Prediction3 = \", pred_y3)\n",
        "\n",
        "test_X4 = np.array([25.07,95.02,2.0,2.1,3.5,3,1]) \n",
        "pred_y4 = model2.predict(test_X4.reshape(1, -1)) \n",
        "print(\"Prediction4 = \", pred_y4)\n",
        "\n",
        "test_X5 = np.array([25.04,95.90,2.0,3.9,2.1,4,1]) \n",
        "pred_y5 = model2.predict(test_X5.reshape(1, -1)) \n",
        "print(\"Prediction5 = \", pred_y5)\n",
        "\n",
        "test_X6 = np.array([36.0,60.0,15.0,41.0,0.0,7,9]) \n",
        "pred_y6 = model2.predict(test_X6.reshape(1, -1)) \n",
        "print(\"Prediction6 = \", pred_y6)\n",
        "\n",
        "test_X7 = np.array([25.0,50.0,24.0,19.0,0.0,0,11]) \n",
        "pred_y7 = model2.predict(test_X7.reshape(1, -1)) \n",
        "print(\"Prediction7 = \", pred_y7)\n",
        "\n",
        "test_X8 = np.array([38,72,39,0,0,8,8]) \n",
        "pred_y8 = model2.predict(test_X8.reshape(1, -1)) \n",
        "print(\"Prediction8 = \", pred_y8)\n",
        "\n",
        "test_X9 = np.array([29.0,58.0,12.0,10.0,0.0,9,3]) \n",
        "pred_y9 = model2.predict(test_X9.reshape(1, -1)) \n",
        "print(\"Prediction9 = \", pred_y9)\n",
        "\n",
        "test_X10 = np.array([30.0,60.0,4.0,17.0,17.0,10,5]) \n",
        "pred_y10 = model2.predict(test_X10.reshape(1, -1)) \n",
        "print(\"Prediction10 = \", pred_y10)"
      ]
    },
    {
      "cell_type": "code",
      "execution_count": 70,
      "metadata": {
        "colab": {
          "base_uri": "https://localhost:8080/"
        },
        "id": "iei9noUDzKmv",
        "outputId": "174d057f-1620-4724-f715-8d9fd668d02b"
      },
      "outputs": [
        {
          "name": "stdout",
          "output_type": "stream",
          "text": [
            "77.33333333333333\n",
            "Training score 0.7633928571428571\n",
            "Testing score 0.7733333333333333\n",
            "predicted Results\n",
            " [10  5  1  6  6  3  6  9  3  1 10  1  4 10  1  4 10  4  5  8  4  1  3  3\n",
            " 10  4  4  7  8  7  0  1  4  1  8  0  5  5 10  4 11  1  0  6  1  1  8  4\n",
            "  6  1  3 11  3  4  4  8  1  3 10  3  3  3  6  5  8  4  6  6  6  1  3  7\n",
            "  8  3  3]\n",
            "Confusion Matrix\n",
            " [[ 2  0  0  0  1  0  1  0  0  0  0  0]\n",
            " [ 0  9  0  0  0  0  0  0  0  0  0  0]\n",
            " [ 0  0  0  0  0  0  2  0  0  0  0  0]\n",
            " [ 0  0  0 12  0  0  0  0  0  0  0  0]\n",
            " [ 0  0  0  0  8  0  0  0  0  0  0  0]\n",
            " [ 0  2  0  1  2  2  1  0  0  0  0  0]\n",
            " [ 1  2  0  0  1  3  5  0  0  0  0  0]\n",
            " [ 0  0  0  0  0  0  0  3  0  0  0  0]\n",
            " [ 0  0  0  0  0  0  0  0  7  0  0  0]\n",
            " [ 0  0  0  0  0  0  0  0  0  1  0  0]\n",
            " [ 0  0  0  0  0  0  0  0  0  0  7  0]\n",
            " [ 0  0  0  0  0  0  0  0  0  0  0  2]]\n",
            "Classficaition Report\n",
            "               precision    recall  f1-score   support\n",
            "\n",
            "           0       0.67      0.50      0.57         4\n",
            "           1       0.69      1.00      0.82         9\n",
            "           2       0.00      0.00      0.00         2\n",
            "           3       0.92      1.00      0.96        12\n",
            "           4       0.67      1.00      0.80         8\n",
            "           5       0.40      0.25      0.31         8\n",
            "           6       0.56      0.42      0.48        12\n",
            "           7       1.00      1.00      1.00         3\n",
            "           8       1.00      1.00      1.00         7\n",
            "           9       1.00      1.00      1.00         1\n",
            "          10       1.00      1.00      1.00         7\n",
            "          11       1.00      1.00      1.00         2\n",
            "\n",
            "    accuracy                           0.77        75\n",
            "   macro avg       0.74      0.76      0.74        75\n",
            "weighted avg       0.74      0.77      0.74        75\n",
            "\n"
          ]
        },
        {
          "name": "stderr",
          "output_type": "stream",
          "text": [
            "/usr/local/lib/python3.7/dist-packages/sklearn/linear_model/_logistic.py:818: ConvergenceWarning: lbfgs failed to converge (status=1):\n",
            "STOP: TOTAL NO. of ITERATIONS REACHED LIMIT.\n",
            "\n",
            "Increase the number of iterations (max_iter) or scale the data as shown in:\n",
            "    https://scikit-learn.org/stable/modules/preprocessing.html\n",
            "Please also refer to the documentation for alternative solver options:\n",
            "    https://scikit-learn.org/stable/modules/linear_model.html#logistic-regression\n",
            "  extra_warning_msg=_LOGISTIC_SOLVER_CONVERGENCE_MSG,\n",
            "/usr/local/lib/python3.7/dist-packages/sklearn/metrics/_classification.py:1318: UndefinedMetricWarning: Precision and F-score are ill-defined and being set to 0.0 in labels with no predicted samples. Use `zero_division` parameter to control this behavior.\n",
            "  _warn_prf(average, modifier, msg_start, len(result))\n",
            "/usr/local/lib/python3.7/dist-packages/sklearn/metrics/_classification.py:1318: UndefinedMetricWarning: Precision and F-score are ill-defined and being set to 0.0 in labels with no predicted samples. Use `zero_division` parameter to control this behavior.\n",
            "  _warn_prf(average, modifier, msg_start, len(result))\n",
            "/usr/local/lib/python3.7/dist-packages/sklearn/metrics/_classification.py:1318: UndefinedMetricWarning: Precision and F-score are ill-defined and being set to 0.0 in labels with no predicted samples. Use `zero_division` parameter to control this behavior.\n",
            "  _warn_prf(average, modifier, msg_start, len(result))\n"
          ]
        }
      ],
      "source": [
        "# Method 3 : Logistic Regression\n",
        "\n",
        "from sklearn.linear_model import LogisticRegression \n",
        "model3 = LogisticRegression()\n",
        "model3.fit(x_train,y_train) #to train the machine / to prepare my model for predictions\n",
        "y_pred3 = model3.predict(x_test)\n",
        "\n",
        "from sklearn.metrics import accuracy_score \n",
        "model3_accuracy=accuracy_score(y_pred3,y_test)*100\n",
        "print(model3_accuracy)\n",
        "gen_metrics(model3,y_pred3,x_train,x_test,y_train,y_test)"
      ]
    },
    {
      "cell_type": "code",
      "execution_count": 71,
      "metadata": {
        "colab": {
          "base_uri": "https://localhost:8080/"
        },
        "id": "PeVbjqdpp4Js",
        "outputId": "2214deb9-2932-4865-cf43-64a14ae0159f"
      },
      "outputs": [
        {
          "name": "stdout",
          "output_type": "stream",
          "text": [
            "Prediction1 =  [0]\n",
            "Prediction2 =  [1]\n",
            "Prediction3 =  [2]\n",
            "Prediction4 =  [3]\n",
            "Prediction5 =  [4]\n",
            "Prediction6 =  [6]\n",
            "Prediction7 =  [8]\n",
            "Prediction8 =  [5]\n",
            "Prediction9 =  [10]\n",
            "Prediction10 =  [11]\n"
          ]
        }
      ],
      "source": [
        "# # Predict output for some unknown sample  \n",
        "test_X1 = np.array([24.87,82.84,4,2,2.5,0,1]) \n",
        "pred_y1 = model3.predict(test_X1.reshape(1, -1)) \n",
        "print(\"Prediction1 = \", pred_y1)\n",
        "\n",
        "test_X2 = np.array([28.69,96.65,4.0,4.0,4.0,1,1]) \n",
        "pred_y2 = model3.predict(test_X2.reshape(1, -1)) \n",
        "print(\"Prediction2 = \", pred_y2)\n",
        "\n",
        "test_X3 = np.array([20.27,81.64,4.0,4.0,2.0,2,0]) \n",
        "pred_y3 = model3.predict(test_X3.reshape(1, -1)) \n",
        "print(\"Prediction3 = \", pred_y3)\n",
        "\n",
        "test_X4 = np.array([25.07,95.02,2.0,2.1,3.5,3,1]) \n",
        "pred_y4 = model3.predict(test_X4.reshape(1, -1)) \n",
        "print(\"Prediction4 = \", pred_y4)\n",
        "\n",
        "test_X5 = np.array([25.04,95.90,2.0,3.9,2.1,4,1]) \n",
        "pred_y5 = model3.predict(test_X5.reshape(1, -1)) \n",
        "print(\"Prediction5 = \", pred_y5)\n",
        "\n",
        "test_X6 = np.array([36.0,60.0,15.0,41.0,0.0,7,9]) \n",
        "pred_y6 = model3.predict(test_X6.reshape(1, -1)) \n",
        "print(\"Prediction6 = \", pred_y6)\n",
        "\n",
        "test_X7 = np.array([25.0,50.0,24.0,19.0,0.0,0,11]) \n",
        "pred_y7 = model3.predict(test_X7.reshape(1, -1)) \n",
        "print(\"Prediction7 = \", pred_y7)\n",
        "\n",
        "test_X8 = np.array([38,72,39,0,0,8,8]) \n",
        "pred_y8 = model3.predict(test_X8.reshape(1, -1)) \n",
        "print(\"Prediction8 = \", pred_y8)\n",
        "\n",
        "test_X9 = np.array([29.0,58.0,12.0,10.0,0.0,9,3]) \n",
        "pred_y9 = model3.predict(test_X9.reshape(1, -1)) \n",
        "print(\"Prediction9 = \", pred_y9)\n",
        "\n",
        "test_X10 = np.array([30.0,60.0,4.0,17.0,17.0,10,5]) \n",
        "pred_y10 = model3.predict(test_X10.reshape(1, -1)) \n",
        "print(\"Prediction10 = \", pred_y10)"
      ]
    },
    {
      "cell_type": "code",
      "execution_count": 72,
      "metadata": {
        "colab": {
          "base_uri": "https://localhost:8080/"
        },
        "id": "66N1S4iB0Hzq",
        "outputId": "0286361d-fe1a-48b5-d42b-f6947e07e66b"
      },
      "outputs": [
        {
          "name": "stdout",
          "output_type": "stream",
          "text": [
            "68.0\n",
            "Training score 0.8080357142857143\n",
            "Testing score 0.68\n",
            "predicted Results\n",
            " [10  6  1  6  6  3  6  9  3  6 10  3  4 10  1  4 10  3  5  8  4  6  4  3\n",
            " 10  4  4  7  8  7  6  1  4  1  8  0  0  0 10  3 11  1  6  6  3  0  8  4\n",
            "  6  6  1  9  3  1  2  8  5  3 10  6  3  6  0  5  8  6  6  5  1  1  3  7\n",
            "  8  5  0]\n",
            "Confusion Matrix\n",
            " [[0 0 0 0 1 0 3 0 0 0 0 0]\n",
            " [1 6 0 0 0 1 1 0 0 0 0 0]\n",
            " [1 1 0 0 0 0 0 0 0 0 0 0]\n",
            " [1 1 0 7 1 0 2 0 0 0 0 0]\n",
            " [0 0 1 1 6 0 0 0 0 0 0 0]\n",
            " [0 1 0 3 0 4 0 0 0 0 0 0]\n",
            " [3 0 0 0 0 0 9 0 0 0 0 0]\n",
            " [0 0 0 0 0 0 0 3 0 0 0 0]\n",
            " [0 0 0 0 0 0 0 0 7 0 0 0]\n",
            " [0 0 0 0 0 0 0 0 0 1 0 0]\n",
            " [0 0 0 0 0 0 0 0 0 0 7 0]\n",
            " [0 0 0 0 0 0 0 0 0 1 0 1]]\n",
            "Classficaition Report\n",
            "               precision    recall  f1-score   support\n",
            "\n",
            "           0       0.00      0.00      0.00         4\n",
            "           1       0.67      0.67      0.67         9\n",
            "           2       0.00      0.00      0.00         2\n",
            "           3       0.64      0.58      0.61        12\n",
            "           4       0.75      0.75      0.75         8\n",
            "           5       0.80      0.50      0.62         8\n",
            "           6       0.60      0.75      0.67        12\n",
            "           7       1.00      1.00      1.00         3\n",
            "           8       1.00      1.00      1.00         7\n",
            "           9       0.50      1.00      0.67         1\n",
            "          10       1.00      1.00      1.00         7\n",
            "          11       1.00      0.50      0.67         2\n",
            "\n",
            "    accuracy                           0.68        75\n",
            "   macro avg       0.66      0.65      0.64        75\n",
            "weighted avg       0.70      0.68      0.68        75\n",
            "\n"
          ]
        }
      ],
      "source": [
        "# Method 4 : KNN\n",
        "\n",
        "from sklearn.neighbors import KNeighborsClassifier\n",
        "model4 = KNeighborsClassifier(n_neighbors=5)\n",
        "model4.fit(x_train, y_train)\n",
        "y_pred4 = model4.predict(x_test)\n",
        "\n",
        "from sklearn.metrics import accuracy_score \n",
        "model4_accuracy=accuracy_score(y_pred4,y_test)*100\n",
        "print(model4_accuracy)\n",
        "gen_metrics(model4,y_pred4,x_train,x_test,y_train,y_test)"
      ]
    },
    {
      "cell_type": "code",
      "execution_count": 73,
      "metadata": {
        "colab": {
          "base_uri": "https://localhost:8080/"
        },
        "id": "NIlAzpATqM5J",
        "outputId": "3b04f620-3008-4204-dc7a-35b4a2e2b66c"
      },
      "outputs": [
        {
          "name": "stdout",
          "output_type": "stream",
          "text": [
            "Prediction1 =  [0]\n",
            "Prediction2 =  [1]\n",
            "Prediction3 =  [2]\n",
            "Prediction4 =  [4]\n",
            "Prediction5 =  [4]\n",
            "Prediction6 =  [6]\n",
            "Prediction7 =  [8]\n",
            "Prediction8 =  [5]\n",
            "Prediction9 =  [10]\n",
            "Prediction10 =  [9]\n"
          ]
        }
      ],
      "source": [
        "# # Predict output for some unknown sample \n",
        "test_X1 = np.array([24.87,82.84,4,2,2.5,0,1]) \n",
        "pred_y1 = model4.predict(test_X1.reshape(1, -1)) \n",
        "print(\"Prediction1 = \", pred_y1)\n",
        "\n",
        "test_X2 = np.array([28.69,96.65,4.0,4.0,4.0,1,1]) \n",
        "pred_y2 = model4.predict(test_X2.reshape(1, -1)) \n",
        "print(\"Prediction2 = \", pred_y2)\n",
        "\n",
        "test_X3 = np.array([20.27,81.64,4.0,4.0,2.0,2,0]) \n",
        "pred_y3 = model4.predict(test_X3.reshape(1, -1)) \n",
        "print(\"Prediction3 = \", pred_y3)\n",
        "\n",
        "test_X4 = np.array([25.07,95.02,2.0,2.1,3.5,3,1]) \n",
        "pred_y4 = model4.predict(test_X4.reshape(1, -1)) \n",
        "print(\"Prediction4 = \", pred_y4)\n",
        "\n",
        "test_X5 = np.array([25.04,95.90,2.0,3.9,2.1,4,1]) \n",
        "pred_y5 = model4.predict(test_X5.reshape(1, -1)) \n",
        "print(\"Prediction5 = \", pred_y5)\n",
        "\n",
        "test_X6 = np.array([36.0,60.0,15.0,41.0,0.0,7,9]) \n",
        "pred_y6 = model4.predict(test_X6.reshape(1, -1)) \n",
        "print(\"Prediction6 = \", pred_y6)\n",
        "\n",
        "test_X7 = np.array([25.0,50.0,24.0,19.0,0.0,0,11]) \n",
        "pred_y7 = model4.predict(test_X7.reshape(1, -1)) \n",
        "print(\"Prediction7 = \", pred_y7)\n",
        "\n",
        "test_X8 = np.array([38,72,39,0,0,8,8]) \n",
        "pred_y8 = model4.predict(test_X8.reshape(1, -1)) \n",
        "print(\"Prediction8 = \", pred_y8)\n",
        "\n",
        "test_X9 = np.array([29.0,58.0,12.0,10.0,0.0,9,3]) \n",
        "pred_y9 = model4.predict(test_X9.reshape(1, -1)) \n",
        "print(\"Prediction9 = \", pred_y9)\n",
        "\n",
        "test_X10 = np.array([30.0,60.0,4.0,17.0,17.0,10,5]) \n",
        "pred_y10 = model4.predict(test_X10.reshape(1, -1)) \n",
        "print(\"Prediction10 = \", pred_y10)"
      ]
    },
    {
      "cell_type": "code",
      "execution_count": 74,
      "metadata": {
        "colab": {
          "base_uri": "https://localhost:8080/"
        },
        "id": "_IUSFF4YSD_5",
        "outputId": "dc5ef0b6-bf3a-4b06-c218-78b589745318"
      },
      "outputs": [
        {
          "name": "stdout",
          "output_type": "stream",
          "text": [
            "80.0\n",
            "Training score 0.84375\n",
            "Testing score 0.8\n",
            "predicted Results\n",
            " [6 6 1 6 6 3 6 9 3 1 6 5 4 6 1 4 6 4 5 8 4 0 3 3 6 4 4 7 8 7 0 1 4 1 8 0 6\n",
            " 0 6 5 9 1 0 0 5 1 8 4 6 6 3 9 3 5 4 8 1 3 6 3 3 3 0 5 8 6 6 5 0 1 3 7 8 5\n",
            " 3]\n",
            "Confusion Matrix\n",
            " [[ 3  0  0  0  1  0  0  0  0  0  0  0]\n",
            " [ 0  9  0  0  0  0  0  0  0  0  0  0]\n",
            " [ 2  0  0  0  0  0  0  0  0  0  0  0]\n",
            " [ 0  0  0 12  0  0  0  0  0  0  0  0]\n",
            " [ 0  0  0  0  8  0  0  0  0  0  0  0]\n",
            " [ 0  0  0  0  0  8  0  0  0  0  0  0]\n",
            " [ 3  0  0  0  0  0  9  0  0  0  0  0]\n",
            " [ 0  0  0  0  0  0  0  3  0  0  0  0]\n",
            " [ 0  0  0  0  0  0  0  0  7  0  0  0]\n",
            " [ 0  0  0  0  0  0  0  0  0  1  0  0]\n",
            " [ 0  0  0  0  0  0  7  0  0  0  0  0]\n",
            " [ 0  0  0  0  0  0  0  0  0  2  0  0]]\n",
            "Classficaition Report\n",
            "               precision    recall  f1-score   support\n",
            "\n",
            "           0       0.38      0.75      0.50         4\n",
            "           1       1.00      1.00      1.00         9\n",
            "           2       0.00      0.00      0.00         2\n",
            "           3       1.00      1.00      1.00        12\n",
            "           4       0.89      1.00      0.94         8\n",
            "           5       1.00      1.00      1.00         8\n",
            "           6       0.56      0.75      0.64        12\n",
            "           7       1.00      1.00      1.00         3\n",
            "           8       1.00      1.00      1.00         7\n",
            "           9       0.33      1.00      0.50         1\n",
            "          10       0.00      0.00      0.00         7\n",
            "          11       0.00      0.00      0.00         2\n",
            "\n",
            "    accuracy                           0.80        75\n",
            "   macro avg       0.60      0.71      0.63        75\n",
            "weighted avg       0.73      0.80      0.76        75\n",
            "\n"
          ]
        },
        {
          "name": "stderr",
          "output_type": "stream",
          "text": [
            "/usr/local/lib/python3.7/dist-packages/sklearn/metrics/_classification.py:1318: UndefinedMetricWarning: Precision and F-score are ill-defined and being set to 0.0 in labels with no predicted samples. Use `zero_division` parameter to control this behavior.\n",
            "  _warn_prf(average, modifier, msg_start, len(result))\n",
            "/usr/local/lib/python3.7/dist-packages/sklearn/metrics/_classification.py:1318: UndefinedMetricWarning: Precision and F-score are ill-defined and being set to 0.0 in labels with no predicted samples. Use `zero_division` parameter to control this behavior.\n",
            "  _warn_prf(average, modifier, msg_start, len(result))\n",
            "/usr/local/lib/python3.7/dist-packages/sklearn/metrics/_classification.py:1318: UndefinedMetricWarning: Precision and F-score are ill-defined and being set to 0.0 in labels with no predicted samples. Use `zero_division` parameter to control this behavior.\n",
            "  _warn_prf(average, modifier, msg_start, len(result))\n"
          ]
        }
      ],
      "source": [
        "#method 5 Decision Tree\n",
        "from sklearn.tree import DecisionTreeClassifier\n",
        "model5=DecisionTreeClassifier( criterion = \"entropy\", random_state = 0, max_depth = 4, min_samples_leaf = 2) #max_depth may change with features\n",
        "model5.fit(x_train,y_train)\n",
        "y_pred5=model5.predict(x_test)\n",
        "\n",
        "from sklearn.metrics import accuracy_score \n",
        "model5_accuracy=accuracy_score(y_test,y_pred5)*100\n",
        "print(model5_accuracy)\n",
        "gen_metrics(model5,y_pred5,x_train,x_test,y_train,y_test)\n"
      ]
    },
    {
      "cell_type": "code",
      "execution_count": 75,
      "metadata": {
        "colab": {
          "base_uri": "https://localhost:8080/"
        },
        "id": "FI3RK1HYqhoU",
        "outputId": "cf4a7d98-f088-495c-8858-a4d81e87e1ed"
      },
      "outputs": [
        {
          "name": "stdout",
          "output_type": "stream",
          "text": [
            "Prediction1 =  [0]\n",
            "Prediction2 =  [1]\n",
            "Prediction3 =  [0]\n",
            "Prediction4 =  [3]\n",
            "Prediction5 =  [4]\n",
            "Prediction6 =  [6]\n",
            "Prediction7 =  [8]\n",
            "Prediction8 =  [5]\n",
            "Prediction9 =  [6]\n",
            "Prediction10 =  [9]\n"
          ]
        }
      ],
      "source": [
        "# # Predict output for some unknown sample \n",
        "test_X1 = np.array([24.87,82.84,4,2,2.5,0,1]) \n",
        "pred_y1 = model5.predict(test_X1.reshape(1, -1)) \n",
        "print(\"Prediction1 = \", pred_y1)\n",
        "\n",
        "test_X2 = np.array([28.69,96.65,4.0,4.0,4.0,1,1]) \n",
        "pred_y2 = model5.predict(test_X2.reshape(1, -1)) \n",
        "print(\"Prediction2 = \", pred_y2)\n",
        "\n",
        "test_X3 = np.array([20.27,81.64,4.0,4.0,2.0,2,0]) \n",
        "pred_y3 = model5.predict(test_X3.reshape(1, -1)) \n",
        "print(\"Prediction3 = \", pred_y3)\n",
        "\n",
        "test_X4 = np.array([25.07,95.02,2.0,2.1,3.5,3,1]) \n",
        "pred_y4 = model5.predict(test_X4.reshape(1, -1)) \n",
        "print(\"Prediction4 = \", pred_y4)\n",
        "\n",
        "test_X5 = np.array([25.04,95.90,2.0,3.9,2.1,4,1]) \n",
        "pred_y5 = model5.predict(test_X5.reshape(1, -1)) \n",
        "print(\"Prediction5 = \", pred_y5)\n",
        "\n",
        "test_X6 = np.array([36.0,60.0,15.0,41.0,0.0,7,9]) \n",
        "pred_y6 = model5.predict(test_X6.reshape(1, -1)) \n",
        "print(\"Prediction6 = \", pred_y6)\n",
        "\n",
        "test_X7 = np.array([25.0,50.0,24.0,19.0,0.0,0,11]) \n",
        "pred_y7 = model5.predict(test_X7.reshape(1, -1)) \n",
        "print(\"Prediction7 = \", pred_y7)\n",
        "\n",
        "test_X8 = np.array([38,72,39,0,0,8,8]) \n",
        "pred_y8 = model5.predict(test_X8.reshape(1, -1)) \n",
        "print(\"Prediction8 = \", pred_y8)\n",
        "\n",
        "test_X9 = np.array([29.0,58.0,12.0,10.0,0.0,9,3]) \n",
        "pred_y9 = model5.predict(test_X9.reshape(1, -1)) \n",
        "print(\"Prediction9 = \", pred_y9)\n",
        "\n",
        "test_X10 = np.array([30.0,60.0,4.0,17.0,17.0,10,5]) \n",
        "pred_y10 = model5.predict(test_X10.reshape(1, -1)) \n",
        "print(\"Prediction10 = \", pred_y10)"
      ]
    },
    {
      "cell_type": "code",
      "execution_count": 76,
      "metadata": {
        "colab": {
          "base_uri": "https://localhost:8080/"
        },
        "id": "ebjl_Qgj1tCl",
        "outputId": "aba35ac9-7419-4dd2-8ed5-40df8d3ca18b"
      },
      "outputs": [
        {
          "name": "stdout",
          "output_type": "stream",
          "text": [
            "97.33333333333334\n",
            "Training score 1.0\n",
            "Testing score 0.9733333333333334\n",
            "predicted Results\n",
            " [10  6  1  6  6  3  6  9  3  1 10  5  4 10  1  4 10  4  5  8  4  6  3  3\n",
            " 10  4  4  7  8  7  1  1  4  1  8  6  6  6 10  5 11  1  0  0  5  1  8  4\n",
            "  6  6  3 11  3  5  4  8  1  3 10  3  3  3  2  5  8  6  6  5  2  1  3  7\n",
            "  8  5  3]\n",
            "Confusion Matrix\n",
            " [[ 2  1  0  0  1  0  0  0  0  0  0  0]\n",
            " [ 0  9  0  0  0  0  0  0  0  0  0  0]\n",
            " [ 0  0  2  0  0  0  0  0  0  0  0  0]\n",
            " [ 0  0  0 12  0  0  0  0  0  0  0  0]\n",
            " [ 0  0  0  0  8  0  0  0  0  0  0  0]\n",
            " [ 0  0  0  0  0  8  0  0  0  0  0  0]\n",
            " [ 0  0  0  0  0  0 12  0  0  0  0  0]\n",
            " [ 0  0  0  0  0  0  0  3  0  0  0  0]\n",
            " [ 0  0  0  0  0  0  0  0  7  0  0  0]\n",
            " [ 0  0  0  0  0  0  0  0  0  1  0  0]\n",
            " [ 0  0  0  0  0  0  0  0  0  0  7  0]\n",
            " [ 0  0  0  0  0  0  0  0  0  0  0  2]]\n",
            "Classficaition Report\n",
            "               precision    recall  f1-score   support\n",
            "\n",
            "           0       1.00      0.50      0.67         4\n",
            "           1       0.90      1.00      0.95         9\n",
            "           2       1.00      1.00      1.00         2\n",
            "           3       1.00      1.00      1.00        12\n",
            "           4       0.89      1.00      0.94         8\n",
            "           5       1.00      1.00      1.00         8\n",
            "           6       1.00      1.00      1.00        12\n",
            "           7       1.00      1.00      1.00         3\n",
            "           8       1.00      1.00      1.00         7\n",
            "           9       1.00      1.00      1.00         1\n",
            "          10       1.00      1.00      1.00         7\n",
            "          11       1.00      1.00      1.00         2\n",
            "\n",
            "    accuracy                           0.97        75\n",
            "   macro avg       0.98      0.96      0.96        75\n",
            "weighted avg       0.98      0.97      0.97        75\n",
            "\n"
          ]
        }
      ],
      "source": [
        "#Method 6 : Random Forest\n",
        "\n",
        "from sklearn.ensemble import RandomForestClassifier\n",
        "model6 = RandomForestClassifier(random_state=1)\n",
        "model6.fit(x_train, y_train)\n",
        "y_pred6 = model6.predict(x_test)\n",
        "\n",
        "from sklearn.metrics import accuracy_score \n",
        "model6_accuracy=accuracy_score(y_test,y_pred6)*100\n",
        "print(model6_accuracy)\n",
        "gen_metrics(model6,y_pred6,x_train,x_test,y_train,y_test)"
      ]
    },
    {
      "cell_type": "code",
      "execution_count": 77,
      "metadata": {
        "colab": {
          "base_uri": "https://localhost:8080/"
        },
        "id": "v64GKnqmq1ZF",
        "outputId": "7e048ab7-1b39-47ea-bf09-8975d1527f01"
      },
      "outputs": [
        {
          "name": "stdout",
          "output_type": "stream",
          "text": [
            "Prediction1 =  [0]\n",
            "Prediction2 =  [1]\n",
            "Prediction3 =  [2]\n",
            "Prediction4 =  [3]\n",
            "Prediction5 =  [4]\n",
            "Prediction6 =  [6]\n",
            "Prediction7 =  [8]\n",
            "Prediction8 =  [5]\n",
            "Prediction9 =  [10]\n",
            "Prediction10 =  [11]\n"
          ]
        }
      ],
      "source": [
        "# # Predict output for some unknown sample \n",
        "test_X1 = np.array([24.87,82.84,4,2,2.5,0,1]) \n",
        "pred_y1 = model6.predict(test_X1.reshape(1, -1)) \n",
        "print(\"Prediction1 = \", pred_y1)\n",
        "\n",
        "test_X2 = np.array([28.69,96.65,4.0,4.0,4.0,1,1]) \n",
        "pred_y2 = model6.predict(test_X2.reshape(1, -1)) \n",
        "print(\"Prediction2 = \", pred_y2)\n",
        "\n",
        "test_X3 = np.array([20.27,81.64,4.0,4.0,2.0,2,0]) \n",
        "pred_y3 = model6.predict(test_X3.reshape(1, -1)) \n",
        "print(\"Prediction3 = \", pred_y3)\n",
        "\n",
        "test_X4 = np.array([25.07,95.02,2.0,2.1,3.5,3,1]) \n",
        "pred_y4 = model6.predict(test_X4.reshape(1, -1)) \n",
        "print(\"Prediction4 = \", pred_y4)\n",
        "\n",
        "test_X5 = np.array([25.04,95.90,2.0,3.9,2.1,4,1]) \n",
        "pred_y5 = model6.predict(test_X5.reshape(1, -1)) \n",
        "print(\"Prediction5 = \", pred_y5)\n",
        "\n",
        "test_X6 = np.array([36.0,60.0,15.0,41.0,0.0,7,9]) \n",
        "pred_y6 = model6.predict(test_X6.reshape(1, -1)) \n",
        "print(\"Prediction6 = \", pred_y6)\n",
        "\n",
        "test_X7 = np.array([25.0,50.0,24.0,19.0,0.0,0,11]) \n",
        "pred_y7 = model6.predict(test_X7.reshape(1, -1)) \n",
        "print(\"Prediction7 = \", pred_y7)\n",
        "\n",
        "test_X8 = np.array([38,72,39,0,0,8,8]) \n",
        "pred_y8 = model6.predict(test_X8.reshape(1, -1)) \n",
        "print(\"Prediction8 = \", pred_y8)\n",
        "\n",
        "test_X9 = np.array([29.0,58.0,12.0,10.0,0.0,9,3]) \n",
        "pred_y9 = model6.predict(test_X9.reshape(1, -1)) \n",
        "print(\"Prediction9 = \", pred_y9)\n",
        "\n",
        "test_X10 = np.array([30.0,60.0,4.0,17.0,17.0,10,5]) \n",
        "pred_y10 = model6.predict(test_X10.reshape(1, -1)) \n",
        "print(\"Prediction10 = \", pred_y10)"
      ]
    },
    {
      "cell_type": "code",
      "execution_count": 78,
      "metadata": {
        "colab": {
          "base_uri": "https://localhost:8080/",
          "height": 513
        },
        "id": "25WdGytSHosL",
        "outputId": "c5b18303-7f09-435e-d0c4-2627005053c1"
      },
      "outputs": [
        {
          "data": {
            "image/png": "[encoded data removed]",
            "text/plain": [
              "<Figure size 720x504 with 1 Axes>"
            ]
          },
          "metadata": {
            "needs_background": "light"
          },
          "output_type": "display_data"
        }
      ],
      "source": [
        "models=[model1_accuracy, model2_accuracy, model3_accuracy, model4_accuracy, model5_accuracy , model6_accuracy]\n",
        "names=[\"Naive Bayes\", \"SVC\", \"Logistic Regression\", \"KNN\", \"Decision Tree\",\"Random Forest\"]   \n",
        "    \n",
        "x=np.arange(len(names))\n",
        "width=0.3\n",
        "fig,ax=plt.subplots(figsize=(10,7))\n",
        "rects=ax.bar(x,models,width)\n",
        "ax.set_ylabel('Accuracy')\n",
        "ax.set_xlabel('Models')\n",
        "ax.set_title('Accuracy with diferrent Algorithms')\n",
        "ax.set_xticks(x)\n",
        "ax.set_xticklabels(names,rotation=45)\n",
        "fig.tight_layout()\n",
        "plt.show()"
      ]
    },
    {
      "cell_type": "code",
      "execution_count": 79,
      "metadata": {
        "id": "-7fU21wnIChp"
      },
      "outputs": [],
      "source": [
        "pickle.dump(model6,open('fertilizer.pkl', 'wb'))"
      ]
    }
  ],
  "metadata": {
    "colab": {
      "provenance": []
    },
    "kernelspec": {
      "display_name": "Python 3.10.6 64-bit",
      "language": "python",
      "name": "python3"
    },
    "language_info": {
      "name": "python",
      "version": "3.10.6"
    },
    "vscode": {
      "interpreter": {
        "hash": "76d7c06053c3456e5600312cec90888656fc0ed30c03d8425b9dac6e4fc8e014"
      }
    }
  },
  "nbformat": 4,
  "nbformat_minor": 0
}
